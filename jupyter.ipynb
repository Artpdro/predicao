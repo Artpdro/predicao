{
 "cells": [
  {
   "cell_type": "code",
   "execution_count": 2,
   "id": "beced5be",
   "metadata": {},
   "outputs": [],
   "source": [
    "import pandas as pd\n",
    "import matplotlib.pyplot as plt\n",
    "import seaborn as sns\n"
   ]
  },
  {
   "cell_type": "code",
   "execution_count": 3,
   "id": "31b63ae2",
   "metadata": {},
   "outputs": [
    {
     "ename": "NameError",
     "evalue": "name 'json' is not defined",
     "output_type": "error",
     "traceback": [
      "\u001b[31m---------------------------------------------------------------------------\u001b[39m",
      "\u001b[31mNameError\u001b[39m                                 Traceback (most recent call last)",
      "\u001b[36mCell\u001b[39m\u001b[36m \u001b[39m\u001b[32mIn[3]\u001b[39m\u001b[32m, line 4\u001b[39m\n\u001b[32m      1\u001b[39m json_path = \u001b[33m'\u001b[39m\u001b[33mdatatran_consolidado.json\u001b[39m\u001b[33m'\u001b[39m\n\u001b[32m      3\u001b[39m \u001b[38;5;28;01mwith\u001b[39;00m \u001b[38;5;28mopen\u001b[39m(json_path, \u001b[33m'\u001b[39m\u001b[33mr\u001b[39m\u001b[33m'\u001b[39m, encoding=\u001b[33m'\u001b[39m\u001b[33mutf-8\u001b[39m\u001b[33m'\u001b[39m) \u001b[38;5;28;01mas\u001b[39;00m f:\n\u001b[32m----> \u001b[39m\u001b[32m4\u001b[39m     data = \u001b[43mjson\u001b[49m.load(f)\n\u001b[32m      6\u001b[39m df = pd.DataFrame(data)\n\u001b[32m      8\u001b[39m sns.set_style(\u001b[33m\"\u001b[39m\u001b[33mwhitegrid\u001b[39m\u001b[33m\"\u001b[39m)\n",
      "\u001b[31mNameError\u001b[39m: name 'json' is not defined"
     ]
    }
   ],
   "source": [
    "json_path = 'datatran_consolidado.json'\n",
    "\n",
    "with open(json_path, 'r', encoding='utf-8') as f:\n",
    "    data = json.load(f)\n",
    "\n",
    "df = pd.DataFrame(data)\n",
    "\n",
    "sns.set_style(\"whitegrid\")\n",
    "# Aumentar o tamanho padrão dos gráficos\n",
    "plt.rcParams['figure.figsize'] = (10, 6)\n",
    "plt.rcParams['font.size'] = 12\n",
    "\n",
    "# Célula 2: Carregamento e Inspeção Inicial de Dados\n",
    "\n",
    "print(\"--- 1. Carregamento e Limpeza Inicial de Dados ---\")"
   ]
  },
  {
   "cell_type": "code",
   "execution_count": null,
   "id": "4b76bc06",
   "metadata": {},
   "outputs": [],
   "source": [
    "try:\n",
    "    df = pd.read_json('datatran_consolidado.json')\n",
    "    print(\"\\nDataFrame carregado com sucesso!\")\n",
    "except Exception as e:\n",
    "    print(f\"Erro ao carregar o arquivo: {e}\")\n",
    "    print(\"Verifique se o arquivo 'datatran_consolidado.json' está na mesma pasta do seu Notebook.\")\n",
    "    # Exibir apenas as primeiras linhas se o carregamento for bem-sucedido\n",
    "    if 'df' in locals():\n",
    "        print(\"\\nPrimeiras 5 linhas do DataFrame:\")\n",
    "        display(df.head())\n",
    "\n",
    "print(\"\\nInformações sobre o DataFrame:\")\n",
    "df.info()"
   ]
  },
  {
   "cell_type": "code",
   "execution_count": null,
   "id": "fb805028",
   "metadata": {},
   "outputs": [],
   "source": [
    "print(\"--- 2. Análise de Frequência ---\")\n",
    "\n",
    "# Gráfico 1: Acidentes por UF (Top 10)\n",
    "plt.figure(figsize=(12, 6))\n",
    "df['uf'].value_counts().nlargest(10).sort_values(ascending=False).plot(\n",
    "    kind='bar',\n",
    "    color=sns.color_palette(\"viridis\")\n",
    ")\n",
    "plt.title('Top 10 Estados (UF) com Mais Acidentes', fontsize=16)\n",
    "plt.xlabel('UF (Estado)', fontsize=14)\n",
    "plt.ylabel('Número de Acidentes', fontsize=14)\n",
    "plt.xticks(rotation=45, ha='right')\n",
    "plt.tight_layout()\n",
    "plt.show()"
   ]
  },
  {
   "cell_type": "code",
   "execution_count": null,
   "id": "420bb8e3",
   "metadata": {},
   "outputs": [],
   "source": [
    "plt.figure(figsize=(10, 5))\n",
    "ordem_dias = ['segunda-feira', 'terça-feira', 'quarta-feira', 'quinta-feira', 'sexta-feira', 'sábado', 'domingo']\n",
    "df['dia_semana'].value_counts().reindex(ordem_dias, fill_value=0).plot(\n",
    "    kind='bar',\n",
    "    color=sns.color_palette(\"plasma\", len(ordem_dias))\n",
    ")\n",
    "plt.title('Acidentes por Dia da Semana', fontsize=16)\n",
    "plt.xlabel('Dia da Semana', fontsize=14)\n",
    "plt.ylabel('Número de Acidentes', fontsize=14)\n",
    "plt.xticks(rotation=0)\n",
    "plt.tight_layout()\n",
    "plt.show()\n"
   ]
  },
  {
   "cell_type": "code",
   "execution_count": null,
   "id": "41165dd0",
   "metadata": {},
   "outputs": [],
   "source": [
    "print(\"--- 3. Análise Temporal ---\")\n",
    "\n",
    "# Extrair a hora do campo 'horario'\n",
    "df['hora'] = df['horario'].str.split(':').str[0].astype(int)\n",
    "\n",
    "# Contar e ordenar por hora\n",
    "frequencia_hora = df['hora'].value_counts().sort_index()\n",
    "\n",
    "# Gráfico 3: Distribuição de Acidentes por Hora do Dia\n",
    "plt.figure(figsize=(12, 6))\n",
    "frequencia_hora.plot(\n",
    "    kind='line',\n",
    "    marker='o',\n",
    "    color='darkblue'\n",
    ")\n",
    "plt.title('Distribuição de Acidentes por Hora do Dia', fontsize=16)\n",
    "plt.xlabel('Hora do Dia (0 a 23)', fontsize=14)\n",
    "plt.ylabel('Número de Acidentes', fontsize=14)\n",
    "plt.xticks(range(0, 24, 2)) # Marcas a cada 2 horas\n",
    "plt.grid(True, linestyle='--', alpha=0.7)\n",
    "plt.tight_layout()\n",
    "plt.show()\n",
    "\n",
    "print(f\"\\nA hora de pico de acidentes é a hora {frequencia_hora.idxmax()} com {frequencia_hora.max()} ocorrências.\")\n"
   ]
  },
  {
   "cell_type": "code",
   "execution_count": null,
   "id": "84d1a642",
   "metadata": {},
   "outputs": [],
   "source": [
    "print(\"--- 4. Análise de Correlação (Heatmap) ---\")\n",
    "\n",
    "# Tabela de Contingência (Frequência Cruzada) para correlação entre Condição Metereológica e Tipo de Acidente\n",
    "# Normalizar os dados por linha para ver a PROPORÇÃO (probabilidade condicional)\n",
    "contingency_table = pd.crosstab(\n",
    "    df['condicao_metereologica'],\n",
    "    df['tipo_acidente'],\n",
    "    normalize='index'\n",
    ") * 100\n",
    "\n",
    "# Filtrar para os Top 5 Tipos de Acidente para manter o Heatmap legível\n",
    "top_5_tipos = df['tipo_acidente'].value_counts().nlargest(5).index\n",
    "contingency_table_filtered = contingency_table[top_5_tipos]\n",
    "\n",
    "print(\"\\nTabela de Proporção (%) - Tipo de Acidente vs. Condição Metereológica (Linhas normalizadas):\")\n",
    "display(contingency_table_filtered.round(2))\n",
    "\n",
    "# Gráfico 4: Heatmap da Correlação (Proporção)\n",
    "plt.figure(figsize=(12, 8))\n",
    "sns.heatmap(\n",
    "    contingency_table_filtered,\n",
    "    annot=True,        # Mostrar os valores na matriz\n",
    "    fmt=\".1f\",         # Formato com uma casa decimal\n",
    "    cmap=\"YlGnBu\",     # Paleta de cores\n",
    "    linewidths=.5,\n",
    "    cbar_kws={'label': 'Proporção (%)'} # Rótulo para a barra de cores\n",
    ")\n",
    "plt.title('Correlação (Proporção) entre Condição Metereológica e Tipos de Acidente', fontsize=16)\n",
    "plt.xlabel('Tipo de Acidente', fontsize=14)\n",
    "plt.ylabel('Condição Metereológica', fontsize=14)\n",
    "plt.xticks(rotation=45, ha='right')\n",
    "plt.tight_layout()\n",
    "plt.show()"
   ]
  }
 ],
 "metadata": {
  "kernelspec": {
   "display_name": ".venv",
   "language": "python",
   "name": "python3"
  },
  "language_info": {
   "codemirror_mode": {
    "name": "ipython",
    "version": 3
   },
   "file_extension": ".py",
   "mimetype": "text/x-python",
   "name": "python",
   "nbconvert_exporter": "python",
   "pygments_lexer": "ipython3",
   "version": "3.12.10"
  }
 },
 "nbformat": 4,
 "nbformat_minor": 5
}
